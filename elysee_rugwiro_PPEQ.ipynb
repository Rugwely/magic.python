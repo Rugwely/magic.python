{
 "cells": [
  {
   "cell_type": "code",
   "execution_count": 2,
   "id": "a5ddd66c",
   "metadata": {},
   "outputs": [
    {
     "data": {
      "application/javascript": [
       "MathJax.Hub.Config({\n",
       "    TeX: { equationNumbers: { autoNumber: \"AMS\" } }\n",
       "});\n"
      ],
      "text/plain": [
       "<IPython.core.display.Javascript object>"
      ]
     },
     "metadata": {},
     "output_type": "display_data"
    }
   ],
   "source": [
    "%%javascript\n",
    "MathJax.Hub.Config({\n",
    "    TeX: { equationNumbers: { autoNumber: \"AMS\" } }\n",
    "});"
   ]
  },
  {
   "cell_type": "markdown",
   "id": "c746934d",
   "metadata": {},
   "source": [
    "Import all the necessary library in the cell below"
   ]
  },
  {
   "cell_type": "code",
   "execution_count": 137,
   "id": "1811c293",
   "metadata": {},
   "outputs": [],
   "source": [
    "\n",
    "import numpy as np\n",
    "from scipy.optimize import fsolve\n",
    "from numpy.linalg import solve\n",
    "from scipy.integrate import odeint,quad\n",
    "import matplotlib.pyplot as plt\n",
    "import pandas as pd\n",
    "import seaborn as sns\n",
    "from sklearn.model_selection import train_test_split\n",
    "from sklearn.metrics import r2_score , mean_absolute_error, mean_squared_error"
   ]
  },
  {
   "cell_type": "markdown",
   "id": "f8915504",
   "metadata": {},
   "source": [
    "**Problem 1**\n",
    "\n",
    "1- Load the titanic dataset from the seaborn package."
   ]
  },
  {
   "cell_type": "code",
   "execution_count": 99,
   "id": "27fe6013",
   "metadata": {},
   "outputs": [
    {
     "data": {
      "text/html": [
       "<div>\n",
       "<style scoped>\n",
       "    .dataframe tbody tr th:only-of-type {\n",
       "        vertical-align: middle;\n",
       "    }\n",
       "\n",
       "    .dataframe tbody tr th {\n",
       "        vertical-align: top;\n",
       "    }\n",
       "\n",
       "    .dataframe thead th {\n",
       "        text-align: right;\n",
       "    }\n",
       "</style>\n",
       "<table border=\"1\" class=\"dataframe\">\n",
       "  <thead>\n",
       "    <tr style=\"text-align: right;\">\n",
       "      <th></th>\n",
       "      <th>survived</th>\n",
       "      <th>pclass</th>\n",
       "      <th>sex</th>\n",
       "      <th>age</th>\n",
       "      <th>sibsp</th>\n",
       "      <th>parch</th>\n",
       "      <th>fare</th>\n",
       "      <th>embarked</th>\n",
       "      <th>class</th>\n",
       "      <th>who</th>\n",
       "      <th>adult_male</th>\n",
       "      <th>deck</th>\n",
       "      <th>embark_town</th>\n",
       "      <th>alive</th>\n",
       "      <th>alone</th>\n",
       "    </tr>\n",
       "  </thead>\n",
       "  <tbody>\n",
       "    <tr>\n",
       "      <th>0</th>\n",
       "      <td>0</td>\n",
       "      <td>3</td>\n",
       "      <td>male</td>\n",
       "      <td>22.0</td>\n",
       "      <td>1</td>\n",
       "      <td>0</td>\n",
       "      <td>7.2500</td>\n",
       "      <td>S</td>\n",
       "      <td>Third</td>\n",
       "      <td>man</td>\n",
       "      <td>True</td>\n",
       "      <td>NaN</td>\n",
       "      <td>Southampton</td>\n",
       "      <td>no</td>\n",
       "      <td>False</td>\n",
       "    </tr>\n",
       "    <tr>\n",
       "      <th>1</th>\n",
       "      <td>1</td>\n",
       "      <td>1</td>\n",
       "      <td>female</td>\n",
       "      <td>38.0</td>\n",
       "      <td>1</td>\n",
       "      <td>0</td>\n",
       "      <td>71.2833</td>\n",
       "      <td>C</td>\n",
       "      <td>First</td>\n",
       "      <td>woman</td>\n",
       "      <td>False</td>\n",
       "      <td>C</td>\n",
       "      <td>Cherbourg</td>\n",
       "      <td>yes</td>\n",
       "      <td>False</td>\n",
       "    </tr>\n",
       "    <tr>\n",
       "      <th>2</th>\n",
       "      <td>1</td>\n",
       "      <td>3</td>\n",
       "      <td>female</td>\n",
       "      <td>26.0</td>\n",
       "      <td>0</td>\n",
       "      <td>0</td>\n",
       "      <td>7.9250</td>\n",
       "      <td>S</td>\n",
       "      <td>Third</td>\n",
       "      <td>woman</td>\n",
       "      <td>False</td>\n",
       "      <td>NaN</td>\n",
       "      <td>Southampton</td>\n",
       "      <td>yes</td>\n",
       "      <td>True</td>\n",
       "    </tr>\n",
       "    <tr>\n",
       "      <th>3</th>\n",
       "      <td>1</td>\n",
       "      <td>1</td>\n",
       "      <td>female</td>\n",
       "      <td>35.0</td>\n",
       "      <td>1</td>\n",
       "      <td>0</td>\n",
       "      <td>53.1000</td>\n",
       "      <td>S</td>\n",
       "      <td>First</td>\n",
       "      <td>woman</td>\n",
       "      <td>False</td>\n",
       "      <td>C</td>\n",
       "      <td>Southampton</td>\n",
       "      <td>yes</td>\n",
       "      <td>False</td>\n",
       "    </tr>\n",
       "    <tr>\n",
       "      <th>4</th>\n",
       "      <td>0</td>\n",
       "      <td>3</td>\n",
       "      <td>male</td>\n",
       "      <td>35.0</td>\n",
       "      <td>0</td>\n",
       "      <td>0</td>\n",
       "      <td>8.0500</td>\n",
       "      <td>S</td>\n",
       "      <td>Third</td>\n",
       "      <td>man</td>\n",
       "      <td>True</td>\n",
       "      <td>NaN</td>\n",
       "      <td>Southampton</td>\n",
       "      <td>no</td>\n",
       "      <td>True</td>\n",
       "    </tr>\n",
       "  </tbody>\n",
       "</table>\n",
       "</div>"
      ],
      "text/plain": [
       "   survived  pclass     sex   age  sibsp  parch     fare embarked  class  \\\n",
       "0         0       3    male  22.0      1      0   7.2500        S  Third   \n",
       "1         1       1  female  38.0      1      0  71.2833        C  First   \n",
       "2         1       3  female  26.0      0      0   7.9250        S  Third   \n",
       "3         1       1  female  35.0      1      0  53.1000        S  First   \n",
       "4         0       3    male  35.0      0      0   8.0500        S  Third   \n",
       "\n",
       "     who  adult_male deck  embark_town alive  alone  \n",
       "0    man        True  NaN  Southampton    no  False  \n",
       "1  woman       False    C    Cherbourg   yes  False  \n",
       "2  woman       False  NaN  Southampton   yes   True  \n",
       "3  woman       False    C  Southampton   yes  False  \n",
       "4    man        True  NaN  Southampton    no   True  "
      ]
     },
     "execution_count": 99,
     "metadata": {},
     "output_type": "execute_result"
    }
   ],
   "source": [
    "data = sns.load_dataset(\"titanic\")\n",
    "data.head()"
   ]
  },
  {
   "cell_type": "markdown",
   "id": "447328fa",
   "metadata": {},
   "source": [
    "2- how many columns in this dataset?"
   ]
  },
  {
   "cell_type": "code",
   "execution_count": 101,
   "id": "2a1d8f07",
   "metadata": {},
   "outputs": [
    {
     "data": {
      "text/plain": [
       "15"
      ]
     },
     "execution_count": 101,
     "metadata": {},
     "output_type": "execute_result"
    }
   ],
   "source": [
    "data.shape[1]"
   ]
  },
  {
   "cell_type": "markdown",
   "id": "b55917b4",
   "metadata": {},
   "source": [
    "3- list the names of all columns and describe the datatype of each column? "
   ]
  },
  {
   "cell_type": "code",
   "execution_count": 108,
   "id": "f78025c1",
   "metadata": {},
   "outputs": [
    {
     "name": "stdout",
     "output_type": "stream",
     "text": [
      "<class 'pandas.core.frame.DataFrame'>\n",
      "RangeIndex: 891 entries, 0 to 890\n",
      "Data columns (total 15 columns):\n",
      " #   Column       Non-Null Count  Dtype   \n",
      "---  ------       --------------  -----   \n",
      " 0   survived     891 non-null    int64   \n",
      " 1   pclass       891 non-null    int64   \n",
      " 2   sex          891 non-null    object  \n",
      " 3   age          714 non-null    float64 \n",
      " 4   sibsp        891 non-null    int64   \n",
      " 5   parch        891 non-null    int64   \n",
      " 6   fare         891 non-null    float64 \n",
      " 7   embarked     889 non-null    object  \n",
      " 8   class        891 non-null    category\n",
      " 9   who          891 non-null    object  \n",
      " 10  adult_male   891 non-null    bool    \n",
      " 11  deck         203 non-null    category\n",
      " 12  embark_town  889 non-null    object  \n",
      " 13  alive        891 non-null    object  \n",
      " 14  alone        891 non-null    bool    \n",
      "dtypes: bool(2), category(2), float64(2), int64(4), object(5)\n",
      "memory usage: 80.7+ KB\n"
     ]
    }
   ],
   "source": [
    "data.info()"
   ]
  },
  {
   "cell_type": "markdown",
   "id": "6fa74819",
   "metadata": {},
   "source": [
    "4- Count the number of missing values in each column"
   ]
  },
  {
   "cell_type": "code",
   "execution_count": 109,
   "id": "b7b20810",
   "metadata": {},
   "outputs": [
    {
     "data": {
      "text/plain": [
       "survived         0\n",
       "pclass           0\n",
       "sex              0\n",
       "age            177\n",
       "sibsp            0\n",
       "parch            0\n",
       "fare             0\n",
       "embarked         2\n",
       "class            0\n",
       "who              0\n",
       "adult_male       0\n",
       "deck           688\n",
       "embark_town      2\n",
       "alive            0\n",
       "alone            0\n",
       "dtype: int64"
      ]
     },
     "execution_count": 109,
     "metadata": {},
     "output_type": "execute_result"
    }
   ],
   "source": [
    "data.isnull().sum()"
   ]
  },
  {
   "cell_type": "markdown",
   "id": "5b87c877",
   "metadata": {},
   "source": [
    "5- Clean the dataset by removing every record that contains a missing value? "
   ]
  },
  {
   "cell_type": "code",
   "execution_count": 110,
   "id": "def3d590",
   "metadata": {},
   "outputs": [],
   "source": [
    "data.dropna(axis=0,inplace=True)"
   ]
  },
  {
   "cell_type": "markdown",
   "id": "890db3ea",
   "metadata": {},
   "source": [
    "6 - Compute the average age of females and males who survived? "
   ]
  },
  {
   "cell_type": "code",
   "execution_count": 118,
   "id": "1b94fd9b",
   "metadata": {},
   "outputs": [
    {
     "data": {
      "text/plain": [
       "age    42.849057\n",
       "dtype: float64"
      ]
     },
     "execution_count": 118,
     "metadata": {},
     "output_type": "execute_result"
    }
   ],
   "source": [
    "data.loc[(data[\"survived\"]==0)&(data[\"sex\"]==\"male\"),[\"age\"]].mean()"
   ]
  },
  {
   "cell_type": "markdown",
   "id": "d655ac41",
   "metadata": {},
   "source": [
    "6 - Count how many people survived by age and sex. Display the result as DataFrame. "
   ]
  },
  {
   "cell_type": "code",
   "execution_count": 122,
   "id": "c3ced5b9",
   "metadata": {},
   "outputs": [
    {
     "data": {
      "text/html": [
       "<div>\n",
       "<style scoped>\n",
       "    .dataframe tbody tr th:only-of-type {\n",
       "        vertical-align: middle;\n",
       "    }\n",
       "\n",
       "    .dataframe tbody tr th {\n",
       "        vertical-align: top;\n",
       "    }\n",
       "\n",
       "    .dataframe thead th {\n",
       "        text-align: right;\n",
       "    }\n",
       "</style>\n",
       "<table border=\"1\" class=\"dataframe\">\n",
       "  <thead>\n",
       "    <tr style=\"text-align: right;\">\n",
       "      <th></th>\n",
       "      <th></th>\n",
       "      <th>pclass</th>\n",
       "    </tr>\n",
       "    <tr>\n",
       "      <th>survived</th>\n",
       "      <th>sex</th>\n",
       "      <th></th>\n",
       "    </tr>\n",
       "  </thead>\n",
       "  <tbody>\n",
       "    <tr>\n",
       "      <th rowspan=\"2\" valign=\"top\">0</th>\n",
       "      <th>female</th>\n",
       "      <td>1</td>\n",
       "    </tr>\n",
       "    <tr>\n",
       "      <th>male</th>\n",
       "      <td>1</td>\n",
       "    </tr>\n",
       "    <tr>\n",
       "      <th rowspan=\"2\" valign=\"top\">1</th>\n",
       "      <th>female</th>\n",
       "      <td>1</td>\n",
       "    </tr>\n",
       "    <tr>\n",
       "      <th>male</th>\n",
       "      <td>1</td>\n",
       "    </tr>\n",
       "  </tbody>\n",
       "</table>\n",
       "</div>"
      ],
      "text/plain": [
       "                 pclass\n",
       "survived sex           \n",
       "0        female       1\n",
       "         male         1\n",
       "1        female       1\n",
       "         male         1"
      ]
     },
     "execution_count": 122,
     "metadata": {},
     "output_type": "execute_result"
    }
   ],
   "source": [
    "data.groupby([\"survived\",\"sex\"]).count().iloc[:,[0]]\n",
    "data"
   ]
  },
  {
   "cell_type": "markdown",
   "id": "c2b3bb3e",
   "metadata": {},
   "source": [
    "7- Build a logistic regression model using the pclass, age, parch, sex, and fare columns as explanatory variables and the survived column as response variable"
   ]
  },
  {
   "cell_type": "code",
   "execution_count": 130,
   "id": "3efaaee3",
   "metadata": {},
   "outputs": [],
   "source": [
    "data = sns.load_dataset(\"titanic\")\n",
    "data.head()\n",
    "x = data[[\"pclass\", \"age\", \"parch\",\"sex\",\"fare\"]].values.reshape(-1,5)\n",
    "y = data[\"survived\"].values.flatten()"
   ]
  },
  {
   "cell_type": "markdown",
   "id": "a24e015f",
   "metadata": {},
   "source": [
    "8- Measure its performance using accuracy score and display the confusion matrix. "
   ]
  },
  {
   "cell_type": "code",
   "execution_count": 139,
   "id": "fe043e7d",
   "metadata": {},
   "outputs": [
    {
     "ename": "ValueError",
     "evalue": "Found input variables with inconsistent numbers of samples: [101, 891]",
     "output_type": "error",
     "traceback": [
      "\u001b[0;31m---------------------------------------------------------------------------\u001b[0m",
      "\u001b[0;31mValueError\u001b[0m                                Traceback (most recent call last)",
      "\u001b[0;32m/tmp/ipykernel_4939/317720028.py\u001b[0m in \u001b[0;36m<module>\u001b[0;34m\u001b[0m\n\u001b[0;32m----> 1\u001b[0;31m \u001b[0mx_train\u001b[0m\u001b[0;34m,\u001b[0m \u001b[0mx_test\u001b[0m\u001b[0;34m,\u001b[0m \u001b[0my_train\u001b[0m\u001b[0;34m,\u001b[0m \u001b[0my_test\u001b[0m \u001b[0;34m=\u001b[0m \u001b[0mtrain_test_split\u001b[0m\u001b[0;34m(\u001b[0m\u001b[0mx\u001b[0m\u001b[0;34m,\u001b[0m \u001b[0my\u001b[0m\u001b[0;34m,\u001b[0m \u001b[0mtest_size\u001b[0m \u001b[0;34m=\u001b[0m \u001b[0;36m0.2\u001b[0m\u001b[0;34m,\u001b[0m \u001b[0mrandom_state\u001b[0m \u001b[0;34m=\u001b[0m \u001b[0;36m0\u001b[0m\u001b[0;34m)\u001b[0m\u001b[0;34m\u001b[0m\u001b[0;34m\u001b[0m\u001b[0m\n\u001b[0m",
      "\u001b[0;32m/usr/lib/python3/dist-packages/sklearn/model_selection/_split.py\u001b[0m in \u001b[0;36mtrain_test_split\u001b[0;34m(*arrays, **options)\u001b[0m\n\u001b[1;32m   2125\u001b[0m         \u001b[0;32mraise\u001b[0m \u001b[0mTypeError\u001b[0m\u001b[0;34m(\u001b[0m\u001b[0;34m\"Invalid parameters passed: %s\"\u001b[0m \u001b[0;34m%\u001b[0m \u001b[0mstr\u001b[0m\u001b[0;34m(\u001b[0m\u001b[0moptions\u001b[0m\u001b[0;34m)\u001b[0m\u001b[0;34m)\u001b[0m\u001b[0;34m\u001b[0m\u001b[0;34m\u001b[0m\u001b[0m\n\u001b[1;32m   2126\u001b[0m \u001b[0;34m\u001b[0m\u001b[0m\n\u001b[0;32m-> 2127\u001b[0;31m     \u001b[0marrays\u001b[0m \u001b[0;34m=\u001b[0m \u001b[0mindexable\u001b[0m\u001b[0;34m(\u001b[0m\u001b[0;34m*\u001b[0m\u001b[0marrays\u001b[0m\u001b[0;34m)\u001b[0m\u001b[0;34m\u001b[0m\u001b[0;34m\u001b[0m\u001b[0m\n\u001b[0m\u001b[1;32m   2128\u001b[0m \u001b[0;34m\u001b[0m\u001b[0m\n\u001b[1;32m   2129\u001b[0m     \u001b[0mn_samples\u001b[0m \u001b[0;34m=\u001b[0m \u001b[0m_num_samples\u001b[0m\u001b[0;34m(\u001b[0m\u001b[0marrays\u001b[0m\u001b[0;34m[\u001b[0m\u001b[0;36m0\u001b[0m\u001b[0;34m]\u001b[0m\u001b[0;34m)\u001b[0m\u001b[0;34m\u001b[0m\u001b[0;34m\u001b[0m\u001b[0m\n",
      "\u001b[0;32m/usr/lib/python3/dist-packages/sklearn/utils/validation.py\u001b[0m in \u001b[0;36mindexable\u001b[0;34m(*iterables)\u001b[0m\n\u001b[1;32m    290\u001b[0m     \"\"\"\n\u001b[1;32m    291\u001b[0m     \u001b[0mresult\u001b[0m \u001b[0;34m=\u001b[0m \u001b[0;34m[\u001b[0m\u001b[0m_make_indexable\u001b[0m\u001b[0;34m(\u001b[0m\u001b[0mX\u001b[0m\u001b[0;34m)\u001b[0m \u001b[0;32mfor\u001b[0m \u001b[0mX\u001b[0m \u001b[0;32min\u001b[0m \u001b[0miterables\u001b[0m\u001b[0;34m]\u001b[0m\u001b[0;34m\u001b[0m\u001b[0;34m\u001b[0m\u001b[0m\n\u001b[0;32m--> 292\u001b[0;31m     \u001b[0mcheck_consistent_length\u001b[0m\u001b[0;34m(\u001b[0m\u001b[0;34m*\u001b[0m\u001b[0mresult\u001b[0m\u001b[0;34m)\u001b[0m\u001b[0;34m\u001b[0m\u001b[0;34m\u001b[0m\u001b[0m\n\u001b[0m\u001b[1;32m    293\u001b[0m     \u001b[0;32mreturn\u001b[0m \u001b[0mresult\u001b[0m\u001b[0;34m\u001b[0m\u001b[0;34m\u001b[0m\u001b[0m\n\u001b[1;32m    294\u001b[0m \u001b[0;34m\u001b[0m\u001b[0m\n",
      "\u001b[0;32m/usr/lib/python3/dist-packages/sklearn/utils/validation.py\u001b[0m in \u001b[0;36mcheck_consistent_length\u001b[0;34m(*arrays)\u001b[0m\n\u001b[1;32m    253\u001b[0m     \u001b[0muniques\u001b[0m \u001b[0;34m=\u001b[0m \u001b[0mnp\u001b[0m\u001b[0;34m.\u001b[0m\u001b[0munique\u001b[0m\u001b[0;34m(\u001b[0m\u001b[0mlengths\u001b[0m\u001b[0;34m)\u001b[0m\u001b[0;34m\u001b[0m\u001b[0;34m\u001b[0m\u001b[0m\n\u001b[1;32m    254\u001b[0m     \u001b[0;32mif\u001b[0m \u001b[0mlen\u001b[0m\u001b[0;34m(\u001b[0m\u001b[0muniques\u001b[0m\u001b[0;34m)\u001b[0m \u001b[0;34m>\u001b[0m \u001b[0;36m1\u001b[0m\u001b[0;34m:\u001b[0m\u001b[0;34m\u001b[0m\u001b[0;34m\u001b[0m\u001b[0m\n\u001b[0;32m--> 255\u001b[0;31m         raise ValueError(\"Found input variables with inconsistent numbers of\"\n\u001b[0m\u001b[1;32m    256\u001b[0m                          \" samples: %r\" % [int(l) for l in lengths])\n\u001b[1;32m    257\u001b[0m \u001b[0;34m\u001b[0m\u001b[0m\n",
      "\u001b[0;31mValueError\u001b[0m: Found input variables with inconsistent numbers of samples: [101, 891]"
     ]
    }
   ],
   "source": [
    "x_train, x_test, y_train, y_test = train_test_split(x, y, test_size = 0.2, random_state = 0)"
   ]
  },
  {
   "cell_type": "markdown",
   "id": "c9cc0418",
   "metadata": {},
   "source": [
    "9- Interpret the result"
   ]
  },
  {
   "cell_type": "code",
   "execution_count": null,
   "id": "df13002e",
   "metadata": {},
   "outputs": [],
   "source": []
  },
  {
   "cell_type": "markdown",
   "id": "46e969f3",
   "metadata": {},
   "source": [
    "**Problem 2**\n",
    "\n",
    "Let assume we have the one dimensional process model\n",
    "\\begin{equation}\n",
    "x_i = \\alpha x_{i-1}+\\delta_i, \\text{ with }\\delta_i\\thicksim \\mathcal{N}(0,q^2),\\;\\; i = 1,\\cdots,N ,\n",
    "\\end{equation}\n",
    "and $x_0\\thicksim \\mathcal{N}(\\mu,r^2)$. Assume the data model is \n",
    "\n",
    "\\begin{equation}\n",
    "y_i = h_i x_{i}+\\epsilon_i, \\text{ with }\\epsilon_i\\thicksim \\mathcal{N}(0,s^2),\\;\\; i = 1,\\cdots,N ,\n",
    "\\end{equation}\n",
    "where\n",
    "$$\n",
    "h_i =\\begin{cases}\n",
    " 1, \\;\\;& i=&1,\\cdots,N_1\\\\\n",
    "0.1, & i=&N_1+1,\\cdots, N_2\\\\\n",
    "0.9, & i=&N_2+1,\\cdots,N\n",
    "\\end{cases}.\n",
    "$$\n",
    "Note that $N_1<N_2<N$.\n",
    "\n",
    "1- Write Python function called **Process** that takes $\\alpha, N, q, \\mu, r$ and return the array $x$ of the $x_i, i=0,\\cdots,N$."
   ]
  },
  {
   "cell_type": "code",
   "execution_count": null,
   "id": "5e9de586",
   "metadata": {},
   "outputs": [],
   "source": []
  },
  {
   "cell_type": "markdown",
   "id": "926edbdd",
   "metadata": {},
   "source": [
    "2- Write Python function called **Data** that takes array $x$ of the $x_i$, $s, N_1, N_2, N$ and return the array $y$ of $y_i,i=1,\\cdots,N$"
   ]
  },
  {
   "cell_type": "code",
   "execution_count": null,
   "id": "44f0b4ca",
   "metadata": {},
   "outputs": [],
   "source": []
  },
  {
   "cell_type": "markdown",
   "id": "08114e2e",
   "metadata": {},
   "source": [
    "3- Write a program to plot the data on the same graph as the process model, for \\begin{equation}\n",
    "r = 0.1, q=0.4, s=0.9, \\mu = 0.01, h= 1, \\alpha = 0.8,N = 50,  N_1 = 20,  N_2 = 30\n",
    "\\end{equation}"
   ]
  },
  {
   "cell_type": "code",
   "execution_count": null,
   "id": "769d1b0a",
   "metadata": {},
   "outputs": [],
   "source": []
  },
  {
   "cell_type": "markdown",
   "id": "e991b9bd",
   "metadata": {},
   "source": [
    "4- Use the general formulas given for the Kalman filter to find the one dimensional formulas for\n",
    "\n",
    "\\begin{equation}\n",
    "\\mu_{1\\mid 0}, \\sigma_{1\\mid 0}, k_1, \\mu_{1\\mid 1},\\sigma_{1\\mid 1},\n",
    "\\end{equation}\n",
    "in term of $\\alpha, q,r,s,\\mu$ and $y_1$ (write the answer as markdown)"
   ]
  },
  {
   "cell_type": "code",
   "execution_count": null,
   "id": "f5b6e8ab",
   "metadata": {},
   "outputs": [],
   "source": []
  },
  {
   "cell_type": "markdown",
   "id": "6deefef9",
   "metadata": {},
   "source": [
    "5- Using the general formulas given for the Kalman filter, write Python program to calculate\n",
    "\\begin{equation}\n",
    "\\mu_{i\\mid i-1}, \\sigma_{i\\mid i-1}, k_i, \\mu_{i\\mid i},\\sigma_{i\\mid i},\n",
    "\\end{equation}\n",
    "for $i=1,\\cdots, N$. Be sure to\n",
    "initialize the loop over $i$. Hint: I suggest using $\\text{mu\\_old}[i]$ for $\\mu_{i\\mid i-1}$, $\\text{sigma\\_old}[i]$ for $\\sigma_{i\\mid i-1}$, $\\text{mu\\_new}[i]$ for $\\mu_{i\\mid i}$, $\\text{sigma\\_new}[i]$ for $\\sigma_{i\\mid i}$"
   ]
  },
  {
   "cell_type": "code",
   "execution_count": null,
   "id": "ebda13cb",
   "metadata": {},
   "outputs": [],
   "source": []
  },
  {
   "cell_type": "markdown",
   "id": "8b9f5d18",
   "metadata": {},
   "source": [
    "6- Write a Python program to plot the states $x_i$ and data $y_i$ together with the filtered and forecasted estimates on the same graph."
   ]
  },
  {
   "cell_type": "code",
   "execution_count": null,
   "id": "c868fdb6",
   "metadata": {},
   "outputs": [],
   "source": []
  },
  {
   "cell_type": "markdown",
   "id": "908e0240",
   "metadata": {},
   "source": [
    "**Problem 3**\n",
    "\n",
    "1- Let $\\{ x_k\\}$ be a partition of $[a,b]$ such that $a=x_1<\\cdots<x_{N-1}<x_N=b$ and $H$ be the length of the $k$-th subinterval ($H = x_k - x_{k-1}$),\n",
    "then we have \n",
    "$$\\int_a^bf(x)dx \\approx \\sum_{k=2}^N \\frac{f(x_{k-1})+f(x_k)}{2}H = Z$$\n",
    "\n",
    "\n",
    "Write a function named <b>Trap</b> that takes $a,b,N, f$ as inputs and return Z. Here, ``N = 50`` is the default value."
   ]
  },
  {
   "cell_type": "code",
   "execution_count": 3,
   "id": "cff4115d",
   "metadata": {},
   "outputs": [],
   "source": [
    "def Trap(a,b,f,N=50):\n",
    "    Z=0\n",
    "    x=np.zeros(N)\n",
    "    H=t[1]-t[0]\n",
    "    for i in range(2,N):\n",
    "        Z+=(f(x[i-1])+f(x[i]))/2\n",
    "    return Z*H"
   ]
  },
  {
   "cell_type": "markdown",
   "id": "6d455ed2",
   "metadata": {},
   "source": [
    "2- Let $m_k$  be the midpoint of the subinterval $[x_k,x_{k+1}]$ for all $k=1,\\cdots,N-1$, we have \n",
    "\n",
    "$$\\int_a^bf(x)dx \\approx \\sum_{m_k} f(m_{k})H = W$$\n",
    "\n",
    "Write a function named <b>Mid</b> that takes $a,b,N, f$ as inputs and return W. Here, ``N = 50`` is the default value."
   ]
  },
  {
   "cell_type": "code",
   "execution_count": null,
   "id": "f1648d52",
   "metadata": {},
   "outputs": [],
   "source": []
  },
  {
   "cell_type": "markdown",
   "id": "dec53d7f",
   "metadata": {},
   "source": [
    "3- Using **Trap, Mid** and python inbuilt function **quad**, compute and display the integral \n",
    "\n",
    "$$A = \\int_0^{\\sqrt{\\ln(2)}}xe^{x^2}dx$$"
   ]
  },
  {
   "cell_type": "code",
   "execution_count": null,
   "id": "066f0a44",
   "metadata": {},
   "outputs": [],
   "source": []
  },
  {
   "cell_type": "markdown",
   "id": "b4578b37",
   "metadata": {},
   "source": [
    "4- After computing the exact value of $A$, write a Python program that searches for the minimun values $N_{Trap}, N_{Mid}$ less than 10000 such that **Trap, Mid**, respectively, give a better approximation of $A$ then **quad**.  If any the value  $ N_{Trap}, N_{Mid}$ doesn't exist your program should print the string **No $N_{Trap}$ found** or **No $N_{Mid}$ found**, respectively."
   ]
  },
  {
   "cell_type": "code",
   "execution_count": null,
   "id": "70a07efc",
   "metadata": {},
   "outputs": [],
   "source": []
  },
  {
   "cell_type": "markdown",
   "id": "87059133",
   "metadata": {},
   "source": [
    "**Problem 4**\n",
    "\n",
    "Let $\\{ t_k\\}$ be a partition of $[a,b]$ such that $a=t_0<t_1<\\cdots<t_{N}=b$ and $H$ be the constant length of the $k$-th subinterval ($H = t_k - t_{k-1}$). Let us consider initial value problem\n",
    "\n",
    "\\begin{equation}\\label{eul2}\n",
    "  \\begin{cases}\n",
    "    \\dfrac{dz}{dt} = f(z,t),      & \\quad \\text{on } [a, b]\\\\\\\\\n",
    "    z(a) = c,\n",
    "  \\end{cases}\n",
    "\\end{equation}\n",
    "where $z,f,c\\in R^M$ i.e. $z = [x_1, x_2,\\cdots, x_{M}]$, $c = [x_1(a), x_2(a),\\cdots, x_{M}(a)]$ and $f = [f_1, f_2,\\cdots, f_{M}]$. Note that \\eqref{eul2} is a the general form of system of ODEs. \n",
    "\n",
    "Let $t, z_k,Z$ defined as follows $$t=[t_0,t_2,\\cdots,t_{N-1},t_{N}],\\quad z_k = [x_1(t_k), x_2(t_k),\\cdots, x_{M}(t_k)], \\quad\n",
    "Z =\\begin{pmatrix}\n",
    "x_1(t_0)& x_2(t_0)&\\cdots& x_{M}(t_0)\\\\\n",
    "x_1(t_1)& x_2(t_1)&\\cdots& x_{M}(t_1)\\\\\n",
    "x_1(t_2)& x_2(t_2)&\\cdots& x_{M}(t_2)\\\\\n",
    "\\vdots& \\vdots&\\ddots& \\vdots\\\\\n",
    "x_1(t_{N})& x_2(t_{N})&\\cdots& x_{M}(t_{N})\n",
    "\\end{pmatrix}\n",
    "$$\n",
    "\n",
    "1. Write a python function <b> EulerOdeSys </b> that takes $f,c,t$ and return the solution $Z$ of the initial value problem \\eqref{eul2} using Euler method i.e.\n",
    "$$ z_{k+1} = z_k + Hf(z_k,t_k) $$\n"
   ]
  },
  {
   "cell_type": "code",
   "execution_count": null,
   "id": "9f47dc22",
   "metadata": {},
   "outputs": [],
   "source": [
    "def EulerOdeSys(f,c,t):\n",
    "    N=len(t)\n",
    "    H=t[1]-t[0]\n",
    "    M=len(c)\n",
    "    Z=np.zeros((N,M))\n",
    "    Z[0]=c\n",
    "    for i in range(N-1):\n",
    "        Z[i+1]= Z[i]+H*f(Z[i],t[i])       \n",
    "    return Z"
   ]
  },
  {
   "cell_type": "markdown",
   "id": "dd1978b2",
   "metadata": {},
   "source": [
    "2. Write a python function <b> RalstonOdeSys </b> that takes $f,c,t$ and return the solution $Z$ of the initial value problem (1) using the Ralston method i.e.\n",
    "\n",
    "\\begin{equation}\n",
    "\\begin{cases}\n",
    "k_1 = f(z_k,t_k),\\\\\\\\\n",
    "k_2 = f(z_k+\\dfrac{2}{3}Hk_1, t_k + \\dfrac{2}{3}H),\\\\\\\\\n",
    "z_{k+1} = z_k + H(\\dfrac{1}{4}k_1+\\dfrac{3}{4}k_2)\n",
    "\\end{cases}\n",
    "\\end{equation}\n"
   ]
  },
  {
   "cell_type": "code",
   "execution_count": 67,
   "id": "641387c4",
   "metadata": {},
   "outputs": [],
   "source": [
    "def RalstoneOdeSys(f,c,t):\n",
    "    N=len(t)\n",
    "    H=t[1]-t[0]plt.xlabel(\"x\")\n",
    "plt.ylabel(\"y(x) and g(x)\")\n",
    "    M=len(c)\n",
    "    Z=np.zeros((N,M))\n",
    "    Z[0]=c\n",
    "    for i in range(N-1):\n",
    "        k1=f(Z[i],t[i])\n",
    "        k2=f(Z[i]+2*H*k1/3,t[i]+2*H/3)\n",
    "        Z[i+1]= Z[i]+H*(k1/4+3*k2/4) \n",
    "    return Z"
   ]
  },
  {
   "cell_type": "markdown",
   "id": "21b27a01",
   "metadata": {},
   "source": [
    "**Problem 5**\n",
    "\n",
    "Let $\\{ x_k\\}$ be a partition of $[a,b]$ such that $a=x_0<\\cdots<x_{N-1}<x_{N}=b$ and $H$ be the constant length of the $k$-th subinterval ($H = x_k - x_{k-1}$). Let consider the second-order differential equation\n",
    "\n",
    "\\begin{equation}\n",
    "  \\begin{cases}\n",
    "   \\dfrac{d^2 y}{dx^2} + \\dfrac{d y}{dx}-6y = 0 \\qquad\\forall x\\in [a,b]\\\\\\\\\n",
    "\\dfrac{d y}{dx}(a)=0 , y(a) = 1\n",
    "  \\end{cases}\n",
    "\\end{equation}\n",
    "\n",
    "Let $\\{ y_k\\}$ be the approximate solution i.e.  $y_k\\approx g(x_k)=g_k$ where $g(x) = \\dfrac{3}{5}e^{2x}+ \\dfrac{2}{5}e^{-3x}$ is the exact solution. Let us denote $e_k = \\mid g_k - y_k\\mid$\n",
    "\n",
    "1- Using the Python in-built function **odeint**, write a python function <b> SODE </b> that takes $a,b,N$ (with $N= 100$ as default value) and return array of all $x_k$, $y_k$, $g_k$ and $e_k$.\n"
   ]
  },
  {
   "cell_type": "code",
   "execution_count": 52,
   "id": "7248a60a",
   "metadata": {},
   "outputs": [],
   "source": [
    "def SODE(a,b,N=100):\n",
    "    w0=[1,0]\n",
    "    g=lambda x: (3/5)*np.exp(2*x)+(2/5)*np.exp(-3*x)\n",
    "    def model(w,t):\n",
    "        y,z=w\n",
    "        dydx=z\n",
    "        dzdx=-z+6*y\n",
    "        return np.array([dydx,dzdx])\n",
    "    x=np.linspace(a,b,N)\n",
    "    w=odeint(model,w0,x)\n",
    "    Yex=g(x)\n",
    "    E=abs(Yex-w[:,0])\n",
    "    return Yex,w,E,x\n"
   ]
  },
  {
   "cell_type": "markdown",
   "id": "389319fe",
   "metadata": {},
   "source": [
    "2- Using **SODE**, solve the second-order differential equation for $a = 0, b = 2$ and use subplot to plot side by side\n",
    "- $y_k$ and $g_k$ vs $x_k$\n",
    "- $e_k$ vs $x_k$"
   ]
  },
  {
   "cell_type": "code",
   "execution_count": 85,
   "id": "594e6677",
   "metadata": {},
   "outputs": [
    {
     "data": {
      "image/png": "[encoded data removed]",
      "text/plain": [
       "<Figure size 1080x432 with 2 Axes>"
      ]
     },
     "metadata": {},
     "output_type": "display_data"
    }
   ],
   "source": [
    "a=0\n",
    "b=2\n",
    "Yex,w,E,x=SODE(a,b)\n",
    "y=w[:,0]\n",
    "z=w[:,1]\n",
    "plt.style.use('seaborn')\n",
    "plt.figure(figsize=(15,6))\n",
    "plt.subplot(1,2,1)\n",
    "plt.plot(x,y,'.')\n",
    "plt.plot(x,Yex)\n",
    "plt.xlabel(\"x\")\n",
    "plt.ylabel(\"y(x)\")\n",
    "plt.legend([\"Aproximate\",\"Exact\"])\n",
    "\n",
    "plt.subplot(1,2,2)\n",
    "plt.plot(x,E,'.')\n",
    "plt.xlabel(\"x\")\n",
    "plt.ylabel(\"Erroplt.style.use('seaborn')r\")\n",
    "plt.legend(['Error'])\n",
    "plt.show()\n"
   ]
  },
  {
   "cell_type": "markdown",
   "id": "a8069746",
   "metadata": {},
   "source": [
    "3- Using <b> RalstonOdeSys </b>, solve the second-order differential equation for $a = 0, b = 2$ and use subplot to plot side by side\n",
    "- $y_k$ and $g_k$ vs $x_k$\n",
    "- $e_k$ vs $x_k$"
   ]
  },
  {
   "cell_type": "code",
   "execution_count": 76,
   "id": "39175089",
   "metadata": {},
   "outputs": [
    {
     "ename": "ValueError",
     "evalue": "could not broadcast input array from shape (2,) into shape (1,)",
     "output_type": "error",
     "traceback": [
      "\u001b[0;31m---------------------------------------------------------------------------\u001b[0m",
      "\u001b[0;31mValueError\u001b[0m                                Traceback (most recent call last)",
      "\u001b[0;32m/tmp/ipykernel_4939/1460388816.py\u001b[0m in \u001b[0;36m<module>\u001b[0;34m\u001b[0m\n\u001b[1;32m      9\u001b[0m \u001b[0mc\u001b[0m\u001b[0;34m=\u001b[0m\u001b[0mnp\u001b[0m\u001b[0;34m.\u001b[0m\u001b[0marray\u001b[0m\u001b[0;34m(\u001b[0m\u001b[0;34m[\u001b[0m\u001b[0;36m1\u001b[0m\u001b[0;34m,\u001b[0m\u001b[0;36m1\u001b[0m\u001b[0;34m]\u001b[0m\u001b[0;34m)\u001b[0m\u001b[0;34m\u001b[0m\u001b[0;34m\u001b[0m\u001b[0m\n\u001b[1;32m     10\u001b[0m \u001b[0mt\u001b[0m\u001b[0;34m=\u001b[0m\u001b[0mnp\u001b[0m\u001b[0;34m.\u001b[0m\u001b[0mlinspace\u001b[0m\u001b[0;34m(\u001b[0m\u001b[0ma\u001b[0m\u001b[0;34m,\u001b[0m\u001b[0mb\u001b[0m\u001b[0;34m,\u001b[0m\u001b[0mN\u001b[0m\u001b[0;34m)\u001b[0m\u001b[0;34m\u001b[0m\u001b[0;34m\u001b[0m\u001b[0m\n\u001b[0;32m---> 11\u001b[0;31m \u001b[0mZ\u001b[0m\u001b[0;34m=\u001b[0m\u001b[0mRalstoneOdeSys\u001b[0m\u001b[0;34m(\u001b[0m\u001b[0mmodel\u001b[0m\u001b[0;34m,\u001b[0m\u001b[0mc\u001b[0m\u001b[0;34m,\u001b[0m\u001b[0mt\u001b[0m\u001b[0;34m)\u001b[0m\u001b[0;34m\u001b[0m\u001b[0;34m\u001b[0m\u001b[0m\n\u001b[0m\u001b[1;32m     12\u001b[0m \u001b[0;34m\u001b[0m\u001b[0m\n\u001b[1;32m     13\u001b[0m \u001b[0mplt\u001b[0m\u001b[0;34m.\u001b[0m\u001b[0mplot\u001b[0m\u001b[0;34m(\u001b[0m\u001b[0mx\u001b[0m\u001b[0;34m,\u001b[0m\u001b[0mYex\u001b[0m\u001b[0;34m)\u001b[0m\u001b[0;34m\u001b[0m\u001b[0;34m\u001b[0m\u001b[0m\n",
      "\u001b[0;32m/tmp/ipykernel_4939/877174584.py\u001b[0m in \u001b[0;36mRalstoneOdeSys\u001b[0;34m(f, c, t)\u001b[0m\n\u001b[1;32m      4\u001b[0m     \u001b[0mM\u001b[0m\u001b[0;34m=\u001b[0m\u001b[0mlen\u001b[0m\u001b[0;34m(\u001b[0m\u001b[0mc\u001b[0m\u001b[0;34m)\u001b[0m\u001b[0;34m\u001b[0m\u001b[0;34m\u001b[0m\u001b[0m\n\u001b[1;32m      5\u001b[0m     \u001b[0mZ\u001b[0m\u001b[0;34m=\u001b[0m\u001b[0mnp\u001b[0m\u001b[0;34m.\u001b[0m\u001b[0mzeros\u001b[0m\u001b[0;34m(\u001b[0m\u001b[0;34m(\u001b[0m\u001b[0mN\u001b[0m\u001b[0;34m-\u001b[0m\u001b[0;36m1\u001b[0m\u001b[0;34m,\u001b[0m\u001b[0mM\u001b[0m\u001b[0;34m-\u001b[0m\u001b[0;36m1\u001b[0m\u001b[0;34m)\u001b[0m\u001b[0;34m)\u001b[0m\u001b[0;34m\u001b[0m\u001b[0;34m\u001b[0m\u001b[0m\n\u001b[0;32m----> 6\u001b[0;31m     \u001b[0mZ\u001b[0m\u001b[0;34m[\u001b[0m\u001b[0;36m0\u001b[0m\u001b[0;34m]\u001b[0m\u001b[0;34m=\u001b[0m\u001b[0mc\u001b[0m\u001b[0;34m\u001b[0m\u001b[0;34m\u001b[0m\u001b[0m\n\u001b[0m\u001b[1;32m      7\u001b[0m     \u001b[0;32mfor\u001b[0m \u001b[0mi\u001b[0m \u001b[0;32min\u001b[0m \u001b[0mrange\u001b[0m\u001b[0;34m(\u001b[0m\u001b[0mN\u001b[0m\u001b[0;34m-\u001b[0m\u001b[0;36m1\u001b[0m\u001b[0;34m)\u001b[0m\u001b[0;34m:\u001b[0m\u001b[0;34m\u001b[0m\u001b[0;34m\u001b[0m\u001b[0m\n\u001b[1;32m      8\u001b[0m         \u001b[0mk1\u001b[0m\u001b[0;34m=\u001b[0m\u001b[0mf\u001b[0m\u001b[0;34m(\u001b[0m\u001b[0mZ\u001b[0m\u001b[0;34m[\u001b[0m\u001b[0mi\u001b[0m\u001b[0;34m]\u001b[0m\u001b[0;34m,\u001b[0m\u001b[0mt\u001b[0m\u001b[0;34m[\u001b[0m\u001b[0mi\u001b[0m\u001b[0;34m]\u001b[0m\u001b[0;34m)\u001b[0m\u001b[0;34m\u001b[0m\u001b[0;34m\u001b[0m\u001b[0m\n",
      "\u001b[0;31mValueError\u001b[0m: could not broadcast input array from shape (2,) into shape (1,)"
     ]
    }
   ],
   "source": [
    "def model(w,t):\n",
    "        y,z=w\n",
    "        dydx=z\n",
    "        dzdx=-z+6*y\n",
    "        return np.array([dydx,dzdx])\n",
    "a=0\n",
    "b=2\n",
    "N=100\n",
    "c=np.array([1,1])\n",
    "t=np.linspace(a,b,N)\n",
    "Z=RalstoneOdeSys(model,c,t)\n",
    "\n",
    "plt.plot(x,Yex)\n",
    "plt.xlabel(\"x\")\n",
    "plt.ylabel(\"y(x)\")\n",
    "plt.legend([\"Aproximate\",\"Exact\"])\n"
   ]
  },
  {
   "cell_type": "markdown",
   "id": "af61af39",
   "metadata": {},
   "source": [
    "4- Using <b> EulerOdeSys </b>, solve the second-order differential equation for $a = 0, b = 2$ and use subplot to plot side by side\n",
    "- $y_k$ and $g_k$ vs $x_k$\n",
    "- $e_k$ vs $x_k$"
   ]
  },
  {
   "cell_type": "code",
   "execution_count": 95,
   "id": "6b842f4a",
   "metadata": {},
   "outputs": [
    {
     "data": {
      "image/png": "[encoded data removed]",
      "text/plain": [
       "<Figure size 1080x432 with 2 Axes>"
      ]
     },
     "metadata": {},
     "output_type": "display_data"
    }
   ],
   "source": [
    "def EulerOdeSys(f,c,x):\n",
    "    N=len(t)\n",
    "    H=x[1]-x[0]\n",
    "    M=len(c)\n",
    "    Z=np.zeros((N,M))\n",
    "    Z[0]=c\n",
    "    for i in range(N-1):\n",
    "        Z[i+1]= Z[i]+H*f(Z[i],x[i])       \n",
    "    return Z\n",
    "a=0\n",
    "b=2\n",
    "N=100\n",
    "g=lambda x: (3/5)*np.exp(2*x)+(2/5)*np.exp(-3*x)\n",
    "x=np.linspace(a,b,N+1)\n",
    "c=np.array([1,1])       \n",
    "Z=EulerOdeSys(model,c,x)\n",
    "\n",
    "\n",
    "plt.style.use('seaborn')\n",
    "plt.figure(figsize=(15,6))\n",
    "plt.subplot(1,2,1)\n",
    "plt.plot(x,Z[:,0])\n",
    "plt.plot(x,g(x))\n",
    "plt.xlabel(\"x\")\n",
    "plt.ylabel(\"y(x) and g(x)\")\n",
    "plt.legend([\"Aproximate\",\"Exact\"])\n",
    "plt.subplot(1,2,2)\n",
    "plt.plot(x,abs(Z[:,0]-g(x)))\n",
    "plt.xlabel(\"x\")\n",
    "plt.ylabel(\"Error\")\n",
    "plt.legend(['Error'])\n",
    "plt.show()"
   ]
  },
  {
   "cell_type": "markdown",
   "id": "5ac35f5c",
   "metadata": {},
   "source": [
    "5- The L2 error, $L2Er$ between the exact and the approximate solution given by\n",
    "\n",
    "$$L2Er = \\sum_0^N H(y_k - g_k)^2$$\n",
    "\n",
    "\n",
    "Write a function called **L2_error** that takes $a,b,H$ and return the L2 error $g_k$ and the approximate solution $y_k$ obtained using **SODE**, **RalstonOdeSys** and **EulerOdeSys**."
   ]
  },
  {
   "cell_type": "code",
   "execution_count": null,
   "id": "3fe20332",
   "metadata": {},
   "outputs": [],
   "source": []
  },
  {
   "cell_type": "markdown",
   "id": "f8773444",
   "metadata": {},
   "source": [
    "6- Let us denote $L2Er_j$ the output of **L2_error** for a given argument $a,b,H_j$. Using **SODE**, **RalstonOdeSys** and **EulerOdeSys**, compute the array of $L2Er_j$ for $a = 0, b=2$ and $H_j$ in an array $L =[ 10^{-1}, 10^{-2}, 10^{-3}, 10^{-4}]$."
   ]
  },
  {
   "cell_type": "code",
   "execution_count": null,
   "id": "acc3a81d",
   "metadata": {},
   "outputs": [],
   "source": []
  },
  {
   "cell_type": "markdown",
   "id": "64b40f0d",
   "metadata": {},
   "source": [
    "7- For each method **SODE**, **RalstonOdeSys** and **EulerOdeSys**, plot in the same graph $log(L2Er_j)$ vs $log(H_j)$."
   ]
  },
  {
   "cell_type": "code",
   "execution_count": null,
   "id": "8ac7eb00",
   "metadata": {},
   "outputs": [],
   "source": []
  },
  {
   "cell_type": "markdown",
   "id": "7732222c",
   "metadata": {},
   "source": [
    "8-By assuming that $log(H_j)$ is the explanatory variable of $log(L2Er_j)$, complete the simple linear regression in the case of  **RalstonOdeSys**, **EulerOdeSys** and display the regression coeficient.\n",
    "\n",
    "Note: Use the whole data to train your linear model."
   ]
  },
  {
   "cell_type": "code",
   "execution_count": null,
   "id": "37972d31",
   "metadata": {},
   "outputs": [],
   "source": []
  },
  {
   "cell_type": "markdown",
   "id": "330ea9b3",
   "metadata": {},
   "source": [
    "**Problem 6**\n",
    "\n",
    "1-The cost of admission to the world cup 2022 game is\n",
    "- 320 USD for 3 children, 1 female  and 1 male \n",
    "- 600 USD  for 4 females and 2 males \n",
    "- 600 USD  for 5 children, 2 females and 2 males \n",
    "\n",
    "Transform the problem into a system of equation (as markdown in the cell below)"
   ]
  },
  {
   "cell_type": "code",
   "execution_count": null,
   "id": "06f1bb51",
   "metadata": {},
   "outputs": [],
   "source": []
  },
  {
   "cell_type": "markdown",
   "id": "2ad69a8a",
   "metadata": {},
   "source": [
    "2- Write a Python code to compute and display how much is the admission for each child, female and male?"
   ]
  },
  {
   "cell_type": "code",
   "execution_count": null,
   "id": "298099ed",
   "metadata": {},
   "outputs": [],
   "source": []
  },
  {
   "cell_type": "markdown",
   "id": "63d1154f",
   "metadata": {},
   "source": [
    "3- Using the Python in-built function fsolve with unitial guess $x=1, y=1$, write a Python code to solve the following system\n",
    "\n",
    "\\begin{equation}\n",
    "\\begin{cases}\n",
    "    e^{x^2} + x = sin(y)\\\\\n",
    "    2e^x + cos(y) = 2\n",
    "\\end{cases}\n",
    "\\end{equation}\n"
   ]
  },
  {
   "cell_type": "code",
   "execution_count": 7,
   "id": "c4167f17",
   "metadata": {},
   "outputs": [
    {
     "name": "stdout",
     "output_type": "stream",
     "text": [
      "The solution of the equation is : x= -0.3793915333122747    y = -5.395803917749443\n"
     ]
    }
   ],
   "source": [
    "def f(z):\n",
    "    x,y=z\n",
    "    F=np.empty((2))\n",
    "    F[0]=np.exp(x**2)+x-np.sin(y)\n",
    "    F[1]=2*np.exp(x)+np.cos(y)-2\n",
    "    return F\n",
    "\n",
    "zGuess=np.array([1,1])\n",
    "z=fsolve(f,zGuess)\n",
    "print(\"The solution of the equation is : x=\",z[0],\"   y =\",z[1])"
   ]
  },
  {
   "cell_type": "code",
   "execution_count": null,
   "id": "b8868cb3",
   "metadata": {},
   "outputs": [],
   "source": []
  }
 ],
 "metadata": {
  "kernelspec": {
   "display_name": "Python 3",
   "language": "python",
   "name": "python3"
  },
  "language_info": {
   "codemirror_mode": {
    "name": "ipython",
    "version": 3
   },
   "file_extension": ".py",
   "mimetype": "text/x-python",
   "name": "python",
   "nbconvert_exporter": "python",
   "pygments_lexer": "ipython3",
   "version": "3.9.2"
  }
 },
 "nbformat": 4,
 "nbformat_minor": 5
}
